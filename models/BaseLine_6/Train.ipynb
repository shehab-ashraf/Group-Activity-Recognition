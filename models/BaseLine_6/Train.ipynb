{
 "cells": [
  {
   "cell_type": "markdown",
   "id": "6a4fa2f7",
   "metadata": {},
   "source": [
    "## Baseline 6\n",
    "\n",
    "##### 🔹Steps A and B: Same as in Baseline 3\n",
    "- In Step B: Extract representations for each clip, consisting of 9 frames.\n",
    "- Step C: Apply LSTM on the sequences from Step B\n",
    "##### 🔹This model applies LSTM at the **image level only**\n"
   ]
  },
  {
   "cell_type": "markdown",
   "id": "f1558bb6",
   "metadata": {
    "papermill": {
     "duration": 0.004513,
     "end_time": "2025-04-20T11:31:35.151443",
     "exception": false,
     "start_time": "2025-04-20T11:31:35.146930",
     "status": "completed"
    },
    "tags": []
   },
   "source": [
    "## Cloning the Repository"
   ]
  },
  {
   "cell_type": "code",
   "execution_count": 1,
   "id": "935e75a7",
   "metadata": {
    "execution": {
     "iopub.execute_input": "2025-04-20T11:31:35.162112Z",
     "iopub.status.busy": "2025-04-20T11:31:35.161842Z",
     "iopub.status.idle": "2025-04-20T11:31:35.999791Z",
     "shell.execute_reply": "2025-04-20T11:31:35.998959Z"
    },
    "papermill": {
     "duration": 0.8449,
     "end_time": "2025-04-20T11:31:36.001220",
     "exception": false,
     "start_time": "2025-04-20T11:31:35.156320",
     "status": "completed"
    },
    "tags": []
   },
   "outputs": [
    {
     "name": "stdout",
     "output_type": "stream",
     "text": [
      "Cloning into '/kaggle/working/github'...\r\n",
      "remote: Enumerating objects: 201, done.\u001b[K\r\n",
      "remote: Counting objects: 100% (7/7), done.\u001b[K\r\n",
      "remote: Compressing objects: 100% (7/7), done.\u001b[K\r\n",
      "remote: Total 201 (delta 2), reused 0 (delta 0), pack-reused 194 (from 1)\u001b[K\r\n",
      "Receiving objects: 100% (201/201), 2.00 MiB | 21.97 MiB/s, done.\r\n",
      "Resolving deltas: 100% (79/79), done.\r\n"
     ]
    }
   ],
   "source": [
    "!rm -rf /kaggle/working/github\n",
    "!git clone https://github.com/shehab-ashraf/Group-Activity-Recognition.git /kaggle/working/github\n",
    "import sys\n",
    "sys.path.append('/kaggle/working/github/')"
   ]
  },
  {
   "cell_type": "markdown",
   "id": "b87534d5",
   "metadata": {
    "papermill": {
     "duration": 0.004872,
     "end_time": "2025-04-20T11:31:36.011556",
     "exception": false,
     "start_time": "2025-04-20T11:31:36.006684",
     "status": "completed"
    },
    "tags": []
   },
   "source": [
    "## Importing Necessary Libraries"
   ]
  },
  {
   "cell_type": "code",
   "execution_count": 3,
   "id": "f2e262e8",
   "metadata": {
    "execution": {
     "iopub.execute_input": "2025-04-20T11:31:40.192663Z",
     "iopub.status.busy": "2025-04-20T11:31:40.192086Z",
     "iopub.status.idle": "2025-04-20T11:31:54.676356Z",
     "shell.execute_reply": "2025-04-20T11:31:54.675757Z"
    },
    "papermill": {
     "duration": 14.491907,
     "end_time": "2025-04-20T11:31:54.677753",
     "exception": false,
     "start_time": "2025-04-20T11:31:40.185846",
     "status": "completed"
    },
    "tags": []
   },
   "outputs": [
    {
     "name": "stderr",
     "output_type": "stream",
     "text": [
      "/usr/local/lib/python3.11/dist-packages/albumentations/__init__.py:28: UserWarning: A new version of Albumentations is available: '2.0.5' (you have '2.0.4'). Upgrade using: pip install -U albumentations. To disable automatic update checks, set the environment variable NO_ALBUMENTATIONS_UPDATE to 1.\n",
      "  check_for_updates()\n"
     ]
    }
   ],
   "source": [
    "import os\n",
    "import torch\n",
    "from functools import partial\n",
    "from torcheval.metrics import MulticlassAccuracy\n",
    "from torch.optim.lr_scheduler import OneCycleLR\n",
    "import torch.nn.functional as F\n",
    "import torch.optim as optim\n",
    "from data_utils.dataloader import *\n",
    "from data_utils.dataset import *\n",
    "from Learner.learn import *\n",
    "from models.BaseLine_6.model_a import *\n",
    "from models.BaseLine_6.model_b import *\n",
    "from helper_utils.helper import *"
   ]
  },
  {
   "cell_type": "markdown",
   "id": "9d93964c",
   "metadata": {
    "papermill": {
     "duration": 0.005299,
     "end_time": "2025-04-20T11:31:54.688731",
     "exception": false,
     "start_time": "2025-04-20T11:31:54.683432",
     "status": "completed"
    },
    "tags": []
   },
   "source": [
    "## Creating DataLoaders\n",
    " we create DataLoaders for train model_a to recognize players_actions"
   ]
  },
  {
   "cell_type": "code",
   "execution_count": 4,
   "id": "5d80d261",
   "metadata": {
    "execution": {
     "iopub.execute_input": "2025-04-20T11:31:54.701108Z",
     "iopub.status.busy": "2025-04-20T11:31:54.700357Z",
     "iopub.status.idle": "2025-04-20T11:32:25.069131Z",
     "shell.execute_reply": "2025-04-20T11:32:25.068237Z"
    },
    "papermill": {
     "duration": 30.376536,
     "end_time": "2025-04-20T11:32:25.070682",
     "exception": false,
     "start_time": "2025-04-20T11:31:54.694146",
     "status": "completed"
    },
    "tags": []
   },
   "outputs": [],
   "source": [
    "players_classes = [\"waiting\", \"setting\", \"digging\", \"falling\", \"spiking\", \"blocking\", \"jumping\", \"moving\", \"standing\"]\n",
    "players_labels = {class_name:label for label, class_name in enumerate(players_classes)}\n",
    "\n",
    "\n",
    "videos_path = '/kaggle/input/group-activity-recognition-volleyball/videos'\n",
    "annot_path  = '/kaggle/input/group-activity-recognition-volleyball/annot_all.pkl'\n",
    "\n",
    "train_videos = [1, 3, 6, 7, 10, 13, 15, 16, 18, 22, 23, 31, 32, 36, 38, 39, 40, 41, 42, 48, 50, 52, 53, 54]\n",
    "valid_videos = [0, 2, 8, 12, 17, 19, 24, 26, 27, 28, 30, 33, 46, 49, 51]\n",
    "\n",
    "transforms = A.Compose([\n",
    "    A.Resize(224, 224),\n",
    "    A.OneOf([\n",
    "        A.GaussianBlur(blur_limit=(3, 5), p=0.3),\n",
    "        A.GaussNoise(var_limit=(10.0, 50.0), p=0.3),\n",
    "        A.ImageCompression(quality_lower=75, quality_upper=100, p=0.4),\n",
    "    ], p=0.5),\n",
    "    A.OneOf([\n",
    "        A.ColorJitter(brightness=0.2, contrast=0.2, saturation=0.2, hue=0.05, p=0.7),\n",
    "        A.RandomBrightnessContrast(p=0.7),\n",
    "    ], p=0.5),\n",
    "    A.HorizontalFlip(p=0.03),\n",
    "    A.Normalize(\n",
    "        mean=[0.485, 0.456, 0.406],\n",
    "        std=[0.229, 0.224, 0.225]\n",
    "    ),\n",
    "    ToTensorV2()\n",
    "])\n",
    "\n",
    "dls = create_dataloader(\n",
    "    videos_path=videos_path,\n",
    "    annot_path=annot_path,\n",
    "    labels=players_labels,\n",
    "    train_split=train_videos,\n",
    "    valid_split=valid_videos,\n",
    "    train_transforms=transforms,\n",
    "    mode=\"player_level\",\n",
    "    only_middle_frame=True,\n",
    "    batch_size=32,\n",
    "    num_workers=0\n",
    ")"
   ]
  },
  {
   "cell_type": "markdown",
   "id": "db434cd2",
   "metadata": {
    "papermill": {
     "duration": 0.005299,
     "end_time": "2025-04-20T11:32:25.081916",
     "exception": false,
     "start_time": "2025-04-20T11:32:25.076617",
     "status": "completed"
    },
    "tags": []
   },
   "source": [
    "## Check DataSet\n",
    "see if data is prepared as we want"
   ]
  },
  {
   "cell_type": "code",
   "execution_count": 5,
   "id": "674b9ed4",
   "metadata": {
    "execution": {
     "iopub.execute_input": "2025-04-20T11:32:25.094123Z",
     "iopub.status.busy": "2025-04-20T11:32:25.093571Z",
     "iopub.status.idle": "2025-04-20T11:32:25.099058Z",
     "shell.execute_reply": "2025-04-20T11:32:25.098326Z"
    },
    "papermill": {
     "duration": 0.012715,
     "end_time": "2025-04-20T11:32:25.100158",
     "exception": false,
     "start_time": "2025-04-20T11:32:25.087443",
     "status": "completed"
    },
    "tags": []
   },
   "outputs": [
    {
     "data": {
      "text/plain": [
       "(804, 500)"
      ]
     },
     "execution_count": 5,
     "metadata": {},
     "output_type": "execute_result"
    }
   ],
   "source": [
    "len(dls.train), len(dls.valid)"
   ]
  },
  {
   "cell_type": "markdown",
   "id": "8839c6a4",
   "metadata": {
    "papermill": {
     "duration": 0.006503,
     "end_time": "2025-04-20T11:32:26.423431",
     "exception": false,
     "start_time": "2025-04-20T11:32:26.416928",
     "status": "completed"
    },
    "tags": []
   },
   "source": [
    "## Setting Up Training Callbacks\n",
    "we define training callbacks including:<br>\n",
    "MetricsCB: For tracking accuracy<br>\n",
    "TrainCB: General training utilities<br>\n",
    "ProgressCB: Visualizing training progress<br>\n",
    "DeviceCB: Ensuring correct device allocation<br>\n",
    "we then initialize the Learner class and try to find an good learning-rate."
   ]
  },
  {
   "cell_type": "code",
   "execution_count": 7,
   "id": "92136421",
   "metadata": {
    "execution": {
     "iopub.execute_input": "2025-04-20T11:32:26.437724Z",
     "iopub.status.busy": "2025-04-20T11:32:26.437429Z",
     "iopub.status.idle": "2025-04-20T11:32:26.443600Z",
     "shell.execute_reply": "2025-04-20T11:32:26.443054Z"
    },
    "papermill": {
     "duration": 0.014813,
     "end_time": "2025-04-20T11:32:26.444805",
     "exception": false,
     "start_time": "2025-04-20T11:32:26.429992",
     "status": "completed"
    },
    "tags": []
   },
   "outputs": [],
   "source": [
    "cbs = [\n",
    "    OptimizerCB(partial(optim.AdamW)),\n",
    "    MetricsCB(accuracy=MulticlassAccuracy()),\n",
    "    TrainCB(), \n",
    "    ProgressCB(plot=False), \n",
    "    DeviceCB(),\n",
    "]"
   ]
  },
  {
   "cell_type": "code",
   "execution_count": 8,
   "id": "5c230fd0",
   "metadata": {
    "execution": {
     "iopub.execute_input": "2025-04-20T11:32:26.458947Z",
     "iopub.status.busy": "2025-04-20T11:32:26.458676Z",
     "iopub.status.idle": "2025-04-20T11:32:48.654444Z",
     "shell.execute_reply": "2025-04-20T11:32:48.653712Z"
    },
    "papermill": {
     "duration": 22.204148,
     "end_time": "2025-04-20T11:32:48.655602",
     "exception": false,
     "start_time": "2025-04-20T11:32:26.451454",
     "status": "completed"
    },
    "tags": []
   },
   "outputs": [
    {
     "name": "stderr",
     "output_type": "stream",
     "text": [
      "Downloading: \"https://download.pytorch.org/models/resnet50-11ad3fa6.pth\" to /root/.cache/torch/hub/checkpoints/resnet50-11ad3fa6.pth\n",
      "100%|██████████| 97.8M/97.8M [00:00<00:00, 180MB/s]\n"
     ]
    },
    {
     "data": {
      "text/html": [
       "\n",
       "<style>\n",
       "    /* Turns off some styling */\n",
       "    progress {\n",
       "        /* gets rid of default border in Firefox and Opera. */\n",
       "        border: none;\n",
       "        /* Needs to be in here for Safari polyfill so background images work as expected. */\n",
       "        background-size: auto;\n",
       "    }\n",
       "    progress:not([value]), progress:not([value])::-webkit-progress-bar {\n",
       "        background: repeating-linear-gradient(45deg, #7e7e7e, #7e7e7e 10px, #5c5c5c 10px, #5c5c5c 20px);\n",
       "    }\n",
       "    .progress-bar-interrupted, .progress-bar-interrupted::-webkit-progress-bar {\n",
       "        background: #F44336;\n",
       "    }\n",
       "</style>\n"
      ],
      "text/plain": [
       "<IPython.core.display.HTML object>"
      ]
     },
     "metadata": {},
     "output_type": "display_data"
    },
    {
     "data": {
      "text/html": [
       "\n",
       "    <div>\n",
       "      <progress value='0' class='' max='10' style='width:300px; height:20px; vertical-align: middle;'></progress>\n",
       "      0.00% [0/10 00:00&lt;?]\n",
       "    </div>\n",
       "    \n",
       "\n",
       "\n",
       "    <div>\n",
       "      <progress value='25' class='' max='804' style='width:300px; height:20px; vertical-align: middle;'></progress>\n",
       "      3.11% [25/804 00:20&lt;10:24 2.037]\n",
       "    </div>\n",
       "    "
      ],
      "text/plain": [
       "<IPython.core.display.HTML object>"
      ]
     },
     "metadata": {},
     "output_type": "display_data"
    },
    {
     "data": {
      "image/png": "[encoded data removed]",
      "text/plain": [
       "<Figure size 640x480 with 1 Axes>"
      ]
     },
     "metadata": {},
     "output_type": "display_data"
    }
   ],
   "source": [
    "Person_Activity_Model = Player_Activity_Classifier(9)\n",
    "learn = Learner(Person_Activity_Model, dls, loss_func=F.cross_entropy, cbs=cbs)\n",
    "learn.lr_find()"
   ]
  },
  {
   "cell_type": "markdown",
   "id": "065417ad",
   "metadata": {
    "papermill": {
     "duration": 0.007521,
     "end_time": "2025-04-20T11:32:48.671291",
     "exception": false,
     "start_time": "2025-04-20T11:32:48.663770",
     "status": "completed"
    },
    "tags": []
   },
   "source": [
    "## Training Model_a\n",
    "we train the model_a using the AdamW optimizer and OneCycleLR scheduler for 5 epochs."
   ]
  },
  {
   "cell_type": "code",
   "execution_count": 9,
   "id": "49b33ba6",
   "metadata": {
    "execution": {
     "iopub.execute_input": "2025-04-20T11:32:48.687766Z",
     "iopub.status.busy": "2025-04-20T11:32:48.686990Z",
     "iopub.status.idle": "2025-04-20T12:20:18.338747Z",
     "shell.execute_reply": "2025-04-20T12:20:18.337974Z"
    },
    "papermill": {
     "duration": 2849.661429,
     "end_time": "2025-04-20T12:20:18.340198",
     "exception": false,
     "start_time": "2025-04-20T11:32:48.678769",
     "status": "completed"
    },
    "tags": []
   },
   "outputs": [
    {
     "data": {
      "text/html": [
       "\n",
       "<style>\n",
       "    /* Turns off some styling */\n",
       "    progress {\n",
       "        /* gets rid of default border in Firefox and Opera. */\n",
       "        border: none;\n",
       "        /* Needs to be in here for Safari polyfill so background images work as expected. */\n",
       "        background-size: auto;\n",
       "    }\n",
       "    progress:not([value]), progress:not([value])::-webkit-progress-bar {\n",
       "        background: repeating-linear-gradient(45deg, #7e7e7e, #7e7e7e 10px, #5c5c5c 10px, #5c5c5c 20px);\n",
       "    }\n",
       "    .progress-bar-interrupted, .progress-bar-interrupted::-webkit-progress-bar {\n",
       "        background: #F44336;\n",
       "    }\n",
       "</style>\n"
      ],
      "text/plain": [
       "<IPython.core.display.HTML object>"
      ]
     },
     "metadata": {},
     "output_type": "display_data"
    },
    {
     "data": {
      "text/html": [
       "<table border=\"1\" class=\"dataframe\">\n",
       "  <thead>\n",
       "    <tr style=\"text-align: left;\">\n",
       "      <th>accuracy</th>\n",
       "      <th>loss</th>\n",
       "      <th>epoch</th>\n",
       "      <th>train</th>\n",
       "    </tr>\n",
       "  </thead>\n",
       "  <tbody>\n",
       "    <tr>\n",
       "      <td>0.669</td>\n",
       "      <td>1.088</td>\n",
       "      <td>0</td>\n",
       "      <td>train</td>\n",
       "    </tr>\n",
       "    <tr>\n",
       "      <td>0.729</td>\n",
       "      <td>0.898</td>\n",
       "      <td>0</td>\n",
       "      <td>eval</td>\n",
       "    </tr>\n",
       "    <tr>\n",
       "      <td>0.766</td>\n",
       "      <td>0.709</td>\n",
       "      <td>1</td>\n",
       "      <td>train</td>\n",
       "    </tr>\n",
       "    <tr>\n",
       "      <td>0.762</td>\n",
       "      <td>0.729</td>\n",
       "      <td>1</td>\n",
       "      <td>eval</td>\n",
       "    </tr>\n",
       "    <tr>\n",
       "      <td>0.806</td>\n",
       "      <td>0.567</td>\n",
       "      <td>2</td>\n",
       "      <td>train</td>\n",
       "    </tr>\n",
       "    <tr>\n",
       "      <td>0.787</td>\n",
       "      <td>0.639</td>\n",
       "      <td>2</td>\n",
       "      <td>eval</td>\n",
       "    </tr>\n",
       "    <tr>\n",
       "      <td>0.862</td>\n",
       "      <td>0.386</td>\n",
       "      <td>3</td>\n",
       "      <td>train</td>\n",
       "    </tr>\n",
       "    <tr>\n",
       "      <td>0.799</td>\n",
       "      <td>0.636</td>\n",
       "      <td>3</td>\n",
       "      <td>eval</td>\n",
       "    </tr>\n",
       "    <tr>\n",
       "      <td>0.941</td>\n",
       "      <td>0.186</td>\n",
       "      <td>4</td>\n",
       "      <td>train</td>\n",
       "    </tr>\n",
       "    <tr>\n",
       "      <td>0.801</td>\n",
       "      <td>0.649</td>\n",
       "      <td>4</td>\n",
       "      <td>eval</td>\n",
       "    </tr>\n",
       "  </tbody>\n",
       "</table>"
      ],
      "text/plain": [
       "<IPython.core.display.HTML object>"
      ]
     },
     "metadata": {},
     "output_type": "display_data"
    }
   ],
   "source": [
    "lr,epochs = 5e-4,5\n",
    "cbs = [\n",
    "    OptimizerCB(partial(optim.AdamW, weight_decay=1e-6)),\n",
    "    BatchSchedCB(partial(OneCycleLR, \n",
    "        max_lr=lr,\n",
    "        epochs=5,\n",
    "        steps_per_epoch=len(dls.train),\n",
    "        pct_start=0.3,\n",
    "        div_factor=25,\n",
    "        final_div_factor=1e2\n",
    "    )),\n",
    "    MetricsCB(accuracy=MulticlassAccuracy()),\n",
    "    TrainCB(), \n",
    "    ProgressCB(plot=False), \n",
    "    DeviceCB(),\n",
    "]\n",
    "Person_Activity_Model = Player_Activity_Classifier(9)\n",
    "person_activity_learner = Learner(Person_Activity_Model, dls, loss_func=F.cross_entropy, cbs=cbs) \n",
    "torch.cuda.empty_cache()\n",
    "person_activity_learner.fit(n_epochs=epochs, lr=lr/25)"
   ]
  },
  {
   "cell_type": "markdown",
   "id": "25364e5c",
   "metadata": {
    "papermill": {
     "duration": 0.007428,
     "end_time": "2025-04-20T12:20:18.536458",
     "exception": false,
     "start_time": "2025-04-20T12:20:18.529030",
     "status": "completed"
    },
    "tags": []
   },
   "source": [
    "## Creating DataLoaders\n",
    " we create DataLoaders for train model_b to recognize group_activity"
   ]
  },
  {
   "cell_type": "code",
   "execution_count": 11,
   "id": "1aeebac8",
   "metadata": {
    "execution": {
     "iopub.execute_input": "2025-04-20T12:20:18.552804Z",
     "iopub.status.busy": "2025-04-20T12:20:18.552378Z",
     "iopub.status.idle": "2025-04-20T12:21:52.331203Z",
     "shell.execute_reply": "2025-04-20T12:21:52.330634Z"
    },
    "papermill": {
     "duration": 93.788581,
     "end_time": "2025-04-20T12:21:52.332705",
     "exception": false,
     "start_time": "2025-04-20T12:20:18.544124",
     "status": "completed"
    },
    "tags": []
   },
   "outputs": [],
   "source": [
    "group_classes = ['l-pass', 'r-pass', 'l_set', 'r_set' ,'l-spike', 'r_spike', 'l_winpoint', 'r_winpoint']\n",
    "group_labels = {groub_class:label for label, groub_class in enumerate(group_classes)}\n",
    "\n",
    "videos_path = '/kaggle/input/group-activity-recognition-volleyball/videos'\n",
    "annot_path  = '/kaggle/input/group-activity-recognition-volleyball/annot_all.pkl'\n",
    "\n",
    "train_videos = [1, 3, 6, 7, 10, 13, 15, 16, 18, 22, 23, 31, 32, 36, 38, 39, 40, 41, 42, 48, 50, 52, 53, 54]\n",
    "valid_videos = [0, 2, 8, 12, 17, 19, 24, 26, 27, 28, 30, 33, 46, 49, 51]\n",
    "\n",
    "transforms = A.Compose([\n",
    "    A.Resize(224, 224),\n",
    "    A.OneOf([\n",
    "        A.GaussianBlur(blur_limit=(3, 5), p=0.3),\n",
    "        A.GaussNoise(var_limit=(10.0, 50.0), p=0.3),\n",
    "        A.ImageCompression(quality_lower=75, quality_upper=100, p=0.4),\n",
    "    ], p=0.5),\n",
    "    A.OneOf([\n",
    "        A.ColorJitter(brightness=0.2, contrast=0.2, saturation=0.2, hue=0.05, p=0.7),\n",
    "        A.RandomBrightnessContrast(p=0.7),\n",
    "    ], p=0.5),\n",
    "    A.HorizontalFlip(p=0.03),\n",
    "    A.Normalize(\n",
    "        mean=[0.485, 0.456, 0.406],\n",
    "        std=[0.229, 0.224, 0.225]\n",
    "    ),\n",
    "    ToTensorV2()\n",
    "])\n",
    "\n",
    "dls = create_dataloader(\n",
    "    videos_path=videos_path,\n",
    "    annot_path=annot_path,\n",
    "    labels=group_labels,\n",
    "    train_split=train_videos,\n",
    "    valid_split=valid_videos,\n",
    "    train_transforms=transforms,\n",
    "    mode=\"image_level\",\n",
    "    seq=True,\n",
    "    crop=True,\n",
    "    only_middle_frame=False,\n",
    "    batch_size=8,\n",
    "    num_workers=4\n",
    ")"
   ]
  },
  {
   "cell_type": "markdown",
   "id": "4ebb1278",
   "metadata": {
    "papermill": {
     "duration": 0.007629,
     "end_time": "2025-04-20T12:21:52.348845",
     "exception": false,
     "start_time": "2025-04-20T12:21:52.341216",
     "status": "completed"
    },
    "tags": []
   },
   "source": [
    "## Check DataSet\n",
    "see if data is prepared as we want"
   ]
  },
  {
   "cell_type": "code",
   "execution_count": 12,
   "id": "0c8a926a",
   "metadata": {
    "execution": {
     "iopub.execute_input": "2025-04-20T12:21:52.364872Z",
     "iopub.status.busy": "2025-04-20T12:21:52.364627Z",
     "iopub.status.idle": "2025-04-20T12:21:52.368955Z",
     "shell.execute_reply": "2025-04-20T12:21:52.368402Z"
    },
    "papermill": {
     "duration": 0.013543,
     "end_time": "2025-04-20T12:21:52.369986",
     "exception": false,
     "start_time": "2025-04-20T12:21:52.356443",
     "status": "completed"
    },
    "tags": []
   },
   "outputs": [
    {
     "data": {
      "text/plain": [
       "(269, 168)"
      ]
     },
     "execution_count": 12,
     "metadata": {},
     "output_type": "execute_result"
    }
   ],
   "source": [
    "len(dls.train), len(dls.valid)"
   ]
  },
  {
   "cell_type": "code",
   "execution_count": 13,
   "id": "c99fd163",
   "metadata": {
    "execution": {
     "iopub.execute_input": "2025-04-20T12:21:52.386754Z",
     "iopub.status.busy": "2025-04-20T12:21:52.386119Z",
     "iopub.status.idle": "2025-04-20T12:21:59.665290Z",
     "shell.execute_reply": "2025-04-20T12:21:59.663066Z"
    },
    "papermill": {
     "duration": 7.28882,
     "end_time": "2025-04-20T12:21:59.666839",
     "exception": false,
     "start_time": "2025-04-20T12:21:52.378019",
     "status": "completed"
    },
    "tags": []
   },
   "outputs": [
    {
     "data": {
      "text/plain": [
       "torch.Size([8, 9, 12, 3, 224, 224])"
      ]
     },
     "execution_count": 13,
     "metadata": {},
     "output_type": "execute_result"
    }
   ],
   "source": [
    "it = iter(dls.train)\n",
    "next(it)[0].shape"
   ]
  },
  {
   "cell_type": "markdown",
   "id": "346f4465",
   "metadata": {
    "papermill": {
     "duration": 0.013689,
     "end_time": "2025-04-20T12:21:59.703323",
     "exception": false,
     "start_time": "2025-04-20T12:21:59.689634",
     "status": "completed"
    },
    "tags": []
   },
   "source": [
    "## Setting Up Training Callbacks\n",
    "we define training callbacks including:<br>\n",
    "MetricsCB: For tracking accuracy<br>\n",
    "TrainCB: General training utilities<br>\n",
    "ProgressCB: Visualizing training progress<br>\n",
    "DeviceCB: Ensuring correct device allocation<br>\n",
    "we then initialize the Learner class and try to find an good learning-rate."
   ]
  },
  {
   "cell_type": "code",
   "execution_count": 14,
   "id": "351a650e",
   "metadata": {
    "execution": {
     "iopub.execute_input": "2025-04-20T12:21:59.736173Z",
     "iopub.status.busy": "2025-04-20T12:21:59.734448Z",
     "iopub.status.idle": "2025-04-20T12:21:59.753023Z",
     "shell.execute_reply": "2025-04-20T12:21:59.749452Z"
    },
    "papermill": {
     "duration": 0.037161,
     "end_time": "2025-04-20T12:21:59.754737",
     "exception": false,
     "start_time": "2025-04-20T12:21:59.717576",
     "status": "completed"
    },
    "tags": []
   },
   "outputs": [],
   "source": [
    "cbs = [\n",
    "    OptimizerCB(partial(optim.AdamW)),\n",
    "    MetricsCB(accuracy=MulticlassAccuracy()),\n",
    "    MixedPrecisionCB(), \n",
    "    ProgressCB(plot=False), \n",
    "    DeviceCB(),\n",
    "]"
   ]
  },
  {
   "cell_type": "code",
   "execution_count": 16,
   "id": "d7f87d63",
   "metadata": {
    "execution": {
     "iopub.execute_input": "2025-04-20T12:21:59.878866Z",
     "iopub.status.busy": "2025-04-20T12:21:59.878395Z",
     "iopub.status.idle": "2025-04-20T12:23:24.103254Z",
     "shell.execute_reply": "2025-04-20T12:23:24.102574Z"
    },
    "papermill": {
     "duration": 84.256819,
     "end_time": "2025-04-20T12:23:24.104656",
     "exception": false,
     "start_time": "2025-04-20T12:21:59.847837",
     "status": "completed"
    },
    "tags": []
   },
   "outputs": [
    {
     "data": {
      "text/html": [
       "\n",
       "<style>\n",
       "    /* Turns off some styling */\n",
       "    progress {\n",
       "        /* gets rid of default border in Firefox and Opera. */\n",
       "        border: none;\n",
       "        /* Needs to be in here for Safari polyfill so background images work as expected. */\n",
       "        background-size: auto;\n",
       "    }\n",
       "    progress:not([value]), progress:not([value])::-webkit-progress-bar {\n",
       "        background: repeating-linear-gradient(45deg, #7e7e7e, #7e7e7e 10px, #5c5c5c 10px, #5c5c5c 20px);\n",
       "    }\n",
       "    .progress-bar-interrupted, .progress-bar-interrupted::-webkit-progress-bar {\n",
       "        background: #F44336;\n",
       "    }\n",
       "</style>\n"
      ],
      "text/plain": [
       "<IPython.core.display.HTML object>"
      ]
     },
     "metadata": {},
     "output_type": "display_data"
    },
    {
     "data": {
      "text/html": [
       "\n",
       "    <div>\n",
       "      <progress value='0' class='' max='10' style='width:300px; height:20px; vertical-align: middle;'></progress>\n",
       "      0.00% [0/10 00:00&lt;?]\n",
       "    </div>\n",
       "    \n",
       "\n",
       "\n",
       "    <div>\n",
       "      <progress value='38' class='' max='269' style='width:300px; height:20px; vertical-align: middle;'></progress>\n",
       "      14.13% [38/269 01:19&lt;08:06 1.374]\n",
       "    </div>\n",
       "    "
      ],
      "text/plain": [
       "<IPython.core.display.HTML object>"
      ]
     },
     "metadata": {},
     "output_type": "display_data"
    },
    {
     "name": "stderr",
     "output_type": "stream",
     "text": [
      "/usr/local/lib/python3.11/dist-packages/torch/optim/lr_scheduler.py:224: UserWarning: Detected call of `lr_scheduler.step()` before `optimizer.step()`. In PyTorch 1.1.0 and later, you should call them in the opposite order: `optimizer.step()` before `lr_scheduler.step()`.  Failure to do this will result in PyTorch skipping the first value of the learning rate schedule. See more details at https://pytorch.org/docs/stable/optim.html#how-to-adjust-learning-rate\n",
      "  warnings.warn(\n"
     ]
    },
    {
     "data": {
      "image/png": "[encoded data removed]",
      "text/plain": [
       "<Figure size 640x480 with 1 Axes>"
      ]
     },
     "metadata": {},
     "output_type": "display_data"
    }
   ],
   "source": [
    "Person_Activity_Model.eval()\n",
    "Group_Activity_Model = Group_Activity_Classifer(Person_Activity_Model)\n",
    "Group_Activity_Learner = Learner(model=Group_Activity_Model, dls=dls, loss_func=F.cross_entropy, cbs=cbs)\n",
    "Group_Activity_Learner.lr_find()"
   ]
  },
  {
   "cell_type": "markdown",
   "id": "8ade41e9",
   "metadata": {
    "papermill": {
     "duration": 0.008351,
     "end_time": "2025-04-20T12:23:24.121870",
     "exception": false,
     "start_time": "2025-04-20T12:23:24.113519",
     "status": "completed"
    },
    "tags": []
   },
   "source": [
    "## Training Model_b"
   ]
  },
  {
   "cell_type": "code",
   "execution_count": 17,
   "id": "26223f1d",
   "metadata": {
    "execution": {
     "iopub.execute_input": "2025-04-20T12:23:24.139279Z",
     "iopub.status.busy": "2025-04-20T12:23:24.139058Z",
     "iopub.status.idle": "2025-04-20T14:37:25.036359Z",
     "shell.execute_reply": "2025-04-20T14:37:25.035437Z"
    },
    "papermill": {
     "duration": 8040.907579,
     "end_time": "2025-04-20T14:37:25.037680",
     "exception": false,
     "start_time": "2025-04-20T12:23:24.130101",
     "status": "completed"
    },
    "tags": []
   },
   "outputs": [
    {
     "data": {
      "text/html": [
       "\n",
       "<style>\n",
       "    /* Turns off some styling */\n",
       "    progress {\n",
       "        /* gets rid of default border in Firefox and Opera. */\n",
       "        border: none;\n",
       "        /* Needs to be in here for Safari polyfill so background images work as expected. */\n",
       "        background-size: auto;\n",
       "    }\n",
       "    progress:not([value]), progress:not([value])::-webkit-progress-bar {\n",
       "        background: repeating-linear-gradient(45deg, #7e7e7e, #7e7e7e 10px, #5c5c5c 10px, #5c5c5c 20px);\n",
       "    }\n",
       "    .progress-bar-interrupted, .progress-bar-interrupted::-webkit-progress-bar {\n",
       "        background: #F44336;\n",
       "    }\n",
       "</style>\n"
      ],
      "text/plain": [
       "<IPython.core.display.HTML object>"
      ]
     },
     "metadata": {},
     "output_type": "display_data"
    },
    {
     "data": {
      "text/html": [
       "<table border=\"1\" class=\"dataframe\">\n",
       "  <thead>\n",
       "    <tr style=\"text-align: left;\">\n",
       "      <th>accuracy</th>\n",
       "      <th>loss</th>\n",
       "      <th>epoch</th>\n",
       "      <th>train</th>\n",
       "    </tr>\n",
       "  </thead>\n",
       "  <tbody>\n",
       "    <tr>\n",
       "      <td>0.435</td>\n",
       "      <td>1.620</td>\n",
       "      <td>0</td>\n",
       "      <td>train</td>\n",
       "    </tr>\n",
       "    <tr>\n",
       "      <td>0.581</td>\n",
       "      <td>1.292</td>\n",
       "      <td>0</td>\n",
       "      <td>eval</td>\n",
       "    </tr>\n",
       "    <tr>\n",
       "      <td>0.689</td>\n",
       "      <td>1.001</td>\n",
       "      <td>1</td>\n",
       "      <td>train</td>\n",
       "    </tr>\n",
       "    <tr>\n",
       "      <td>0.579</td>\n",
       "      <td>1.182</td>\n",
       "      <td>1</td>\n",
       "      <td>eval</td>\n",
       "    </tr>\n",
       "    <tr>\n",
       "      <td>0.720</td>\n",
       "      <td>0.806</td>\n",
       "      <td>2</td>\n",
       "      <td>train</td>\n",
       "    </tr>\n",
       "    <tr>\n",
       "      <td>0.385</td>\n",
       "      <td>1.912</td>\n",
       "      <td>2</td>\n",
       "      <td>eval</td>\n",
       "    </tr>\n",
       "    <tr>\n",
       "      <td>0.728</td>\n",
       "      <td>0.768</td>\n",
       "      <td>3</td>\n",
       "      <td>train</td>\n",
       "    </tr>\n",
       "    <tr>\n",
       "      <td>0.495</td>\n",
       "      <td>1.760</td>\n",
       "      <td>3</td>\n",
       "      <td>eval</td>\n",
       "    </tr>\n",
       "    <tr>\n",
       "      <td>0.790</td>\n",
       "      <td>0.596</td>\n",
       "      <td>4</td>\n",
       "      <td>train</td>\n",
       "    </tr>\n",
       "    <tr>\n",
       "      <td>0.708</td>\n",
       "      <td>0.805</td>\n",
       "      <td>4</td>\n",
       "      <td>eval</td>\n",
       "    </tr>\n",
       "    <tr>\n",
       "      <td>0.844</td>\n",
       "      <td>0.447</td>\n",
       "      <td>5</td>\n",
       "      <td>train</td>\n",
       "    </tr>\n",
       "    <tr>\n",
       "      <td>0.674</td>\n",
       "      <td>1.025</td>\n",
       "      <td>5</td>\n",
       "      <td>eval</td>\n",
       "    </tr>\n",
       "    <tr>\n",
       "      <td>0.869</td>\n",
       "      <td>0.374</td>\n",
       "      <td>6</td>\n",
       "      <td>train</td>\n",
       "    </tr>\n",
       "    <tr>\n",
       "      <td>0.779</td>\n",
       "      <td>0.622</td>\n",
       "      <td>6</td>\n",
       "      <td>eval</td>\n",
       "    </tr>\n",
       "    <tr>\n",
       "      <td>0.898</td>\n",
       "      <td>0.322</td>\n",
       "      <td>7</td>\n",
       "      <td>train</td>\n",
       "    </tr>\n",
       "    <tr>\n",
       "      <td>0.793</td>\n",
       "      <td>0.587</td>\n",
       "      <td>7</td>\n",
       "      <td>eval</td>\n",
       "    </tr>\n",
       "    <tr>\n",
       "      <td>0.911</td>\n",
       "      <td>0.280</td>\n",
       "      <td>8</td>\n",
       "      <td>train</td>\n",
       "    </tr>\n",
       "    <tr>\n",
       "      <td>0.803</td>\n",
       "      <td>0.564</td>\n",
       "      <td>8</td>\n",
       "      <td>eval</td>\n",
       "    </tr>\n",
       "    <tr>\n",
       "      <td>0.925</td>\n",
       "      <td>0.243</td>\n",
       "      <td>9</td>\n",
       "      <td>train</td>\n",
       "    </tr>\n",
       "    <tr>\n",
       "      <td>0.805</td>\n",
       "      <td>0.566</td>\n",
       "      <td>9</td>\n",
       "      <td>eval</td>\n",
       "    </tr>\n",
       "  </tbody>\n",
       "</table>"
      ],
      "text/plain": [
       "<IPython.core.display.HTML object>"
      ]
     },
     "metadata": {},
     "output_type": "display_data"
    }
   ],
   "source": [
    "lr,epochs = 8e-4,10\n",
    "cbs = [\n",
    "    OptimizerCB(partial(optim.AdamW,  weight_decay=0.0001)),\n",
    "    BatchSchedCB(partial(OneCycleLR, \n",
    "        max_lr=lr,\n",
    "        epochs=epochs,\n",
    "        steps_per_epoch=len(dls.train),\n",
    "        pct_start=0.3,\n",
    "        div_factor=25,\n",
    "        final_div_factor=1e4\n",
    "    )),\n",
    "    MetricsCB(accuracy=MulticlassAccuracy()),\n",
    "    MixedPrecisionCB(),\n",
    "    ProgressCB(plot=False), \n",
    "    DeviceCB(),\n",
    "]\n",
    "Group_Activity_Model = Group_Activity_Classifer(Person_Activity_Model)\n",
    "Group_Activity_Learner = Learner(model=Group_Activity_Model, dls=dls, loss_func=F.cross_entropy, cbs=cbs)\n",
    "Group_Activity_Learner.fit(n_epochs=epochs, lr=lr/25)"
   ]
  },
  {
   "cell_type": "markdown",
   "id": "819ea77c",
   "metadata": {
    "papermill": {
     "duration": 0.008532,
     "end_time": "2025-04-20T14:37:25.055661",
     "exception": false,
     "start_time": "2025-04-20T14:37:25.047129",
     "status": "completed"
    },
    "tags": []
   },
   "source": [
    "## Testing\n",
    "#### We are currently evaluating our model by performing a single iteration over the test_data."
   ]
  },
  {
   "cell_type": "code",
   "execution_count": 18,
   "id": "747c2aa6",
   "metadata": {
    "execution": {
     "iopub.execute_input": "2025-04-20T14:37:25.074635Z",
     "iopub.status.busy": "2025-04-20T14:37:25.074339Z",
     "iopub.status.idle": "2025-04-20T14:38:13.993402Z",
     "shell.execute_reply": "2025-04-20T14:38:13.992611Z"
    },
    "papermill": {
     "duration": 48.930188,
     "end_time": "2025-04-20T14:38:13.994849",
     "exception": false,
     "start_time": "2025-04-20T14:37:25.064661",
     "status": "completed"
    },
    "tags": []
   },
   "outputs": [],
   "source": [
    "test_videos = [4, 5, 9, 11, 14, 20, 21, 25, 29, 34, 35, 37, 43, 44, 45, 47]\n",
    "test_dataloader = create_dataloader(\n",
    "    videos_path=videos_path,\n",
    "    annot_path=annot_path,\n",
    "    labels=group_labels,\n",
    "    train_split=[],\n",
    "    valid_split=test_videos,\n",
    "    mode=\"image_level\",\n",
    "    seq=True,\n",
    "    crop=True,\n",
    "    only_middle_frame = False,\n",
    "    batch_size=8,\n",
    "    num_workers=4\n",
    ")"
   ]
  },
  {
   "cell_type": "code",
   "execution_count": 19,
   "id": "80573421",
   "metadata": {
    "execution": {
     "iopub.execute_input": "2025-04-20T14:38:14.014031Z",
     "iopub.status.busy": "2025-04-20T14:38:14.013419Z",
     "iopub.status.idle": "2025-04-20T14:44:07.419267Z",
     "shell.execute_reply": "2025-04-20T14:44:07.418366Z"
    },
    "papermill": {
     "duration": 353.416145,
     "end_time": "2025-04-20T14:44:07.420338",
     "exception": false,
     "start_time": "2025-04-20T14:38:14.004193",
     "status": "completed"
    },
    "tags": []
   },
   "outputs": [
    {
     "data": {
      "text/html": [
       "\n",
       "<style>\n",
       "    /* Turns off some styling */\n",
       "    progress {\n",
       "        /* gets rid of default border in Firefox and Opera. */\n",
       "        border: none;\n",
       "        /* Needs to be in here for Safari polyfill so background images work as expected. */\n",
       "        background-size: auto;\n",
       "    }\n",
       "    progress:not([value]), progress:not([value])::-webkit-progress-bar {\n",
       "        background: repeating-linear-gradient(45deg, #7e7e7e, #7e7e7e 10px, #5c5c5c 10px, #5c5c5c 20px);\n",
       "    }\n",
       "    .progress-bar-interrupted, .progress-bar-interrupted::-webkit-progress-bar {\n",
       "        background: #F44336;\n",
       "    }\n",
       "</style>\n"
      ],
      "text/plain": [
       "<IPython.core.display.HTML object>"
      ]
     },
     "metadata": {},
     "output_type": "display_data"
    },
    {
     "data": {
      "text/html": [
       "<table border=\"1\" class=\"dataframe\">\n",
       "  <thead>\n",
       "    <tr style=\"text-align: left;\">\n",
       "      <th>accuracy</th>\n",
       "      <th>loss</th>\n",
       "      <th>epoch</th>\n",
       "      <th>train</th>\n",
       "    </tr>\n",
       "  </thead>\n",
       "  <tbody>\n",
       "    <tr>\n",
       "      <td>0.830</td>\n",
       "      <td>0.459</td>\n",
       "      <td>0</td>\n",
       "      <td>eval</td>\n",
       "    </tr>\n",
       "  </tbody>\n",
       "</table>"
      ],
      "text/plain": [
       "<IPython.core.display.HTML object>"
      ]
     },
     "metadata": {},
     "output_type": "display_data"
    },
    {
     "data": {
      "image/png": "[encoded data removed]",
      "text/plain": [
       "<Figure size 600x600 with 1 Axes>"
      ]
     },
     "metadata": {},
     "output_type": "display_data"
    }
   ],
   "source": [
    "confusion_matrix_cb = ConfusionMatrixCB(class_names=group_classes)\n",
    "cbs=[TrainCB(), ProgressCB(plot=False), DeviceCB(), confusion_matrix_cb, MetricsCB(accuracy=MulticlassAccuracy())] \n",
    "Group_Activity_Model.eval()\n",
    "Group_Activity_Learner = Learner(model=Group_Activity_Model, dls=test_dataloader, loss_func=F.cross_entropy, cbs=cbs)\n",
    "torch.cuda.empty_cache()\n",
    "Group_Activity_Learner.fit(1, train=False)"
   ]
  }
 ],
 "metadata": {
  "kaggle": {
   "accelerator": "gpu",
   "dataSources": [
    {
     "datasetId": 6089726,
     "sourceId": 9911083,
     "sourceType": "datasetVersion"
    }
   ],
   "dockerImageVersionId": 31012,
   "isGpuEnabled": true,
   "isInternetEnabled": true,
   "language": "python",
   "sourceType": "notebook"
  },
  "kernelspec": {
   "display_name": "Python 3",
   "language": "python",
   "name": "python3"
  },
  "language_info": {
   "codemirror_mode": {
    "name": "ipython",
    "version": 3
   },
   "file_extension": ".py",
   "mimetype": "text/x-python",
   "name": "python",
   "nbconvert_exporter": "python",
   "pygments_lexer": "ipython3",
   "version": "3.11.11"
  },
  "papermill": {
   "default_parameters": {},
   "duration": 11561.54102,
   "end_time": "2025-04-20T14:44:12.537685",
   "environment_variables": {},
   "exception": null,
   "input_path": "__notebook__.ipynb",
   "output_path": "__notebook__.ipynb",
   "parameters": {},
   "start_time": "2025-04-20T11:31:30.996665",
   "version": "2.6.0"
  }
 },
 "nbformat": 4,
 "nbformat_minor": 5
}
